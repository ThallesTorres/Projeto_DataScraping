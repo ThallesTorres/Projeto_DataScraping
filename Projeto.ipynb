{
 "cells": [
  {
   "cell_type": "code",
   "execution_count": 26,
   "metadata": {},
   "outputs": [],
   "source": [
    "#import das bibliotecas necessárias para o desenvolvimento do EP\n",
    "\n",
    "import pandas as pd\n",
    "import matplotlib.pyplot as plt"
   ]
  },
  {
   "cell_type": "code",
   "execution_count": 27,
   "metadata": {},
   "outputs": [],
   "source": [
    "#criação do Data Frame e Leitura dos arquivos\n",
    "\n",
    "DadosCO = pd.read_csv('./CENTRO_OESTE_2018.CSV', \n",
    "                        usecols = ['TP_SEXO', 'NU_IDADE'], \n",
    "                        sep = '|', \n",
    "                        encoding = 'iso-8859-1')\n",
    "\n",
    "DadosNordeste = pd.read_csv('./NORDESTE_2018.CSV', \n",
    "                        usecols = ['TP_SEXO', 'NU_IDADE'], \n",
    "                        sep = '|', \n",
    "                        encoding = 'iso-8859-1')\n",
    "\n",
    "DadosNorte = pd.read_csv('./NORTE_2018.CSV', \n",
    "                        usecols = ['TP_SEXO', 'NU_IDADE'], \n",
    "                        sep = '|', \n",
    "                        encoding = 'iso-8859-1')\n",
    "\n",
    "DadosSudeste = pd.read_csv('./SUDESTE_2018.CSV', \n",
    "                        usecols = ['TP_SEXO', 'NU_IDADE'], \n",
    "                        sep = '|', \n",
    "                        encoding = 'iso-8859-1')\n",
    "\n",
    "DadosSul = pd.read_csv('./SUL_2018.CSV', \n",
    "                        usecols = ['TP_SEXO', 'NU_IDADE'], \n",
    "                        sep = '|', \n",
    "                        encoding = 'iso-8859-1')"
   ]
  },
  {
   "cell_type": "code",
   "execution_count": 28,
   "metadata": {},
   "outputs": [],
   "source": [
    "media_sul = DadosSul.NU_IDADE.mean()\n",
    "media_co = DadosCO.NU_IDADE.mean()\n",
    "media_nordeste = DadosNordeste.NU_IDADE.mean()\n",
    "media_norte = DadosNorte.NU_IDADE.mean()\n",
    "media_sudeste = DadosSudeste.NU_IDADE.mean()"
   ]
  },
  {
   "cell_type": "code",
   "execution_count": 29,
   "metadata": {},
   "outputs": [
    {
     "data": {
      "image/png": "[encoded data removed]",
      "text/plain": [
       "<Figure size 432x288 with 1 Axes>"
      ]
     },
     "metadata": {
      "needs_background": "light"
     },
     "output_type": "display_data"
    }
   ],
   "source": [
    "x1 = ['Centro Oeste', 'Nordeste','Norte','Sudeste','Sul']\n",
    "y1 = [(media_oeste),(media_nordeste),(media_norte),(media_sudeste),(media_sul)]\n",
    "\n",
    "plt.title('Média de Idade por Regiões')\n",
    "plt.xlabel('Regiões')\n",
    "plt.ylabel('Média')\n",
    "plt.bar(x1, y1, label ='Média Geral')\n",
    "plt.legend(bbox_to_anchor = (1.01, 1),loc='upper left', borderaxespad=0.)\n",
    "plt.show()"
   ]
  },
  {
   "cell_type": "code",
   "execution_count": null,
   "metadata": {},
   "outputs": [],
   "source": []
  }
 ],
 "metadata": {
  "kernelspec": {
   "display_name": "Python 3",
   "language": "python",
   "name": "python3"
  },
  "language_info": {
   "codemirror_mode": {
    "name": "ipython",
    "version": 3
   },
   "file_extension": ".py",
   "mimetype": "text/x-python",
   "name": "python",
   "nbconvert_exporter": "python",
   "pygments_lexer": "ipython3",
   "version": "3.7.4"
  }
 },
 "nbformat": 4,
 "nbformat_minor": 2
}
